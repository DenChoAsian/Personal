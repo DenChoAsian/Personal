{
 "cells": [
  {
   "cell_type": "markdown",
   "metadata": {},
   "source": [
    "<img src=\"../Денис/dataset/Безымянный.png\" height=\"200\" width=\"900\"> "
   ]
  },
  {
   "cell_type": "markdown",
   "metadata": {},
   "source": [
    "# <center> Web Scrapping of the website www.B17.ru </center>"
   ]
  },
  {
   "cell_type": "markdown",
   "metadata": {},
   "source": [
    "For midterm project, we have to collect a raw data from the website www.b17.ru which contains numerous psychologists' profiles that we need to scrap onto our file. Here is the code that stands for parsing all profiles with respective attributes such as city,price,demand and so on"
   ]
  },
  {
   "cell_type": "code",
   "execution_count": 40,
   "metadata": {},
   "outputs": [],
   "source": [
    "from requests import get \n",
    "import pandas as pd\n",
    "import numpy as np\n",
    "import time\n",
    "from bs4 import BeautifulSoup\n",
    "from fake_useragent import UserAgent\n",
    "import re\n",
    "from tqdm import tqdm_notebook"
   ]
  },
  {
   "cell_type": "code",
   "execution_count": 25,
   "metadata": {},
   "outputs": [],
   "source": [
    "## Function for city\n",
    "def getCity(soup):\n",
    "    try:\n",
    "        q=soup.find('div',{'class':'status-grey'}).text\n",
    "        city=re.findall('\\г\\. \\w+\\-\\w+',q)[0]\n",
    "        print(city)\n",
    "    except: \n",
    "        q=soup.find('div',{'class':'status-grey'}).text\n",
    "        city=re.findall('\\г\\. \\w+',q)[0]\n",
    "\n",
    "    return city    "
   ]
  },
  {
   "cell_type": "code",
   "execution_count": 26,
   "metadata": {},
   "outputs": [],
   "source": [
    "## Function for price\n",
    "\n",
    "def getPrice(soup):\n",
    "    obj=soup.find('div',{'style':'margin: 10px 0 0; padding-left: 21px; position: relative;'})\n",
    "    obj=obj.text\n",
    "    x=re.search('Видео-консультация',obj)\n",
    "    if (x!=None):\n",
    "        return [str(s) for s in obj.split() if s.isdigit()][0]\n",
    "    else:\n",
    "        return np.nan"
   ]
  },
  {
   "cell_type": "code",
   "execution_count": 27,
   "metadata": {},
   "outputs": [],
   "source": [
    "## Function for demand - doesnt work\n",
    "def getProperties(soup,stats):\n",
    "    try:\n",
    "        obj= soup.find('div',{'style':'margin: 6px 0; font-size: 13px; text-align: center;'})\n",
    "        qwe=obj.find('a',{'class':stats})\n",
    "        qwe=qwe.text\n",
    "        obj=[int(s) for s in qwe.split() if s.isdigit()]\n",
    "    except: \n",
    "        obj=np.nan\n",
    "    return obj"
   ]
  },
  {
   "cell_type": "code",
   "execution_count": 28,
   "metadata": {},
   "outputs": [],
   "source": [
    "## Function for N publications\n",
    "def publication(soup):\n",
    "    try:\n",
    "        pub=soup.find('div',{'class':'vkladki5 no-print'}).find('a',{'id':'vkl_article'}).find('span',{'class':'n'})\n",
    "        pub=pub.text\n",
    "    except:\n",
    "        pub=0\n",
    "    return pub  "
   ]
  },
  {
   "cell_type": "code",
   "execution_count": 29,
   "metadata": {},
   "outputs": [],
   "source": [
    "def feedback(soup):\n",
    "    try:\n",
    "        fd=soup.find('div',{'class':'vkladki5 no-print'}).find('a',{'id':'vkl_otzyv'}).find('span',{'class':'n'})\n",
    "        fd=fd.text\n",
    "    except:\n",
    "        fd=0\n",
    "    return fd  "
   ]
  },
  {
   "cell_type": "code",
   "execution_count": 30,
   "metadata": {},
   "outputs": [],
   "source": [
    "## Function for methods of work\n",
    "def methods_work(soup):\n",
    "    try:\n",
    "        methods=soup.find('div',{'style':'margin: 20px 0;'}).text\n",
    "        methods=re.split(r'\\W+',methods)[3:]\n",
    "        methods=' '.join(methods) #to convert from list to string\n",
    "    except: methods=np.nan    \n",
    "    return methods"
   ]
  },
  {
   "cell_type": "code",
   "execution_count": 31,
   "metadata": {},
   "outputs": [],
   "source": [
    "## Function for marital status\n",
    "def marital_status(soup):\n",
    "    try:\n",
    "        marital=soup.find_all('div',{'style':'margin: 10px 0;'})[2].text #several info with the same tags, parsed only MS (2)\n",
    "        marital=re.split(r'\\W+',marital)[2:]\n",
    "        marital=' '.join(marital)\n",
    "    except: marital=np.nan\n",
    "    return marital"
   ]
  },
  {
   "cell_type": "code",
   "execution_count": 32,
   "metadata": {},
   "outputs": [],
   "source": [
    "## Function for age\n",
    "def age_con(soup):\n",
    "    try:\n",
    "        q=soup.find_all('div',{'style':'margin: 10px 0;'})[1].text\n",
    "        q=re.findall('\\d\\d\\d\\d',q)\n",
    "        q=''.join(q)\n",
    "        q=2021-int(q)\n",
    "    except: q=0    \n",
    "    return q"
   ]
  },
  {
   "cell_type": "code",
   "execution_count": 33,
   "metadata": {},
   "outputs": [],
   "source": [
    "## Function for education\n",
    "def education(soup):\n",
    "    edu=soup.find('div',{'id':'vuz'}).find('div',{'class':'vkladki_body_in vkladki_body_list'}).find('div',{'id':'vuz_list_s'}).text\n",
    "    edu=list(edu.split(\"\\n\"))[:-1]\n",
    "    return edu"
   ]
  },
  {
   "cell_type": "markdown",
   "metadata": {},
   "source": [
    "We finished to create a separate functions that retrieve a specific information from each profile. Lets combine it into single function"
   ]
  },
  {
   "cell_type": "code",
   "execution_count": 34,
   "metadata": {},
   "outputs": [],
   "source": [
    "def psych(sor):\n",
    "    \n",
    "    #Created html paper\n",
    "\n",
    "    response = get(sor, headers={'User-Agent': UserAgent().chrome})\n",
    "    html = response.content\n",
    "    soup = BeautifulSoup(html,'html.parser')\n",
    "    \n",
    "    if not response.ok:\n",
    "        # если сервер нам отказал, вернем статус ошибки \n",
    "        return response.status_code\n",
    "    \n",
    "    #Apply function for demand\n",
    "    demand=soup.find('div',{'style':'margin: 6px 0; font-size: 13px; text-align: center;'}).find('a')\n",
    "    demand=demand.text\n",
    "    demand=re.findall(\"\\d+\",demand)[0]\n",
    "\n",
    "    \n",
    "    #Apply function for price\n",
    "    price=getPrice(soup)\n",
    "    \n",
    "    #Extract city \n",
    "    city=getCity(soup)\n",
    "    \n",
    "    #Extract name\n",
    "    name=soup.find('h1').text\n",
    "    \n",
    "    #Extract number of Publications \n",
    "    pub=publication(soup)\n",
    "    \n",
    "    #Extract number of Feedbacks\n",
    "    otz=feedback(soup)\n",
    "    \n",
    "    #Extract description\n",
    "    des= soup.find('div',{'class':'vkladki_body0'})\n",
    "    des=des.find('p')\n",
    "    des=des.text\n",
    "    \n",
    "    #Extract methods of work\n",
    "    methods=methods_work(soup)\n",
    "    \n",
    "    #Extract marital status\n",
    "    marital=marital_status(soup)\n",
    "    \n",
    "    #Extract age\n",
    "    age=age_con(soup)\n",
    "    \n",
    "    #Extract education\n",
    "    edu=education(soup)\n",
    "    data_col={\n",
    "        \"name\":name,\n",
    "        \"demand\":demand,\n",
    "        \"price\":price,\n",
    "        \"publications\":pub,\n",
    "        \"otzivy\":otz,\n",
    "        \"description\":des,\n",
    "        \"city\":city,\n",
    "        \"methods\":methods,\n",
    "        \"marital_status\":marital,\n",
    "        \"age\":age,\n",
    "        \"education\":edu\n",
    "    }\n",
    "    \n",
    "    return data_col"
   ]
  },
  {
   "cell_type": "code",
   "execution_count": 23,
   "metadata": {},
   "outputs": [
    {
     "name": "stdout",
     "output_type": "stream",
     "text": [
      "г. Вольно-Надеждинское\n"
     ]
    },
    {
     "ename": "IndexError",
     "evalue": "list index out of range",
     "output_type": "error",
     "traceback": [
      "\u001b[1;31m---------------------------------------------------------------------------\u001b[0m",
      "\u001b[1;31mIndexError\u001b[0m                                Traceback (most recent call last)",
      "\u001b[1;32m<ipython-input-23-7fa40e87648c>\u001b[0m in \u001b[0;36m<module>\u001b[1;34m\u001b[0m\n\u001b[0;32m      1\u001b[0m \u001b[1;31m## Creating a dataset of single observation\u001b[0m\u001b[1;33m\u001b[0m\u001b[1;33m\u001b[0m\u001b[1;33m\u001b[0m\u001b[0m\n\u001b[1;32m----> 2\u001b[1;33m \u001b[0mdata_col\u001b[0m\u001b[1;33m=\u001b[0m\u001b[0mpsych\u001b[0m\u001b[1;33m(\u001b[0m\u001b[1;34m'https://www.b17.ru/ivanivanovichkuzmin/'\u001b[0m\u001b[1;33m)\u001b[0m\u001b[1;33m\u001b[0m\u001b[1;33m\u001b[0m\u001b[0m\n\u001b[0m\u001b[0;32m      3\u001b[0m \u001b[1;33m\u001b[0m\u001b[0m\n\u001b[0;32m      4\u001b[0m \u001b[0mdf\u001b[0m\u001b[1;33m=\u001b[0m\u001b[0mdf\u001b[0m\u001b[1;33m.\u001b[0m\u001b[0mappend\u001b[0m\u001b[1;33m(\u001b[0m\u001b[0mdata_col\u001b[0m\u001b[1;33m,\u001b[0m\u001b[0mignore_index\u001b[0m\u001b[1;33m=\u001b[0m\u001b[1;32mTrue\u001b[0m\u001b[1;33m)\u001b[0m\u001b[1;33m\u001b[0m\u001b[1;33m\u001b[0m\u001b[0m\n",
      "\u001b[1;32m<ipython-input-21-e1e93bce5825>\u001b[0m in \u001b[0;36mpsych\u001b[1;34m(sor)\u001b[0m\n\u001b[0;32m     21\u001b[0m \u001b[1;33m\u001b[0m\u001b[0m\n\u001b[0;32m     22\u001b[0m     \u001b[1;31m#Extract city\u001b[0m\u001b[1;33m\u001b[0m\u001b[1;33m\u001b[0m\u001b[1;33m\u001b[0m\u001b[0m\n\u001b[1;32m---> 23\u001b[1;33m     \u001b[0mcity\u001b[0m\u001b[1;33m=\u001b[0m\u001b[0mgetCity\u001b[0m\u001b[1;33m(\u001b[0m\u001b[0msoup\u001b[0m\u001b[1;33m)\u001b[0m\u001b[1;33m\u001b[0m\u001b[1;33m\u001b[0m\u001b[0m\n\u001b[0m\u001b[0;32m     24\u001b[0m \u001b[1;33m\u001b[0m\u001b[0m\n\u001b[0;32m     25\u001b[0m     \u001b[1;31m#Extract name\u001b[0m\u001b[1;33m\u001b[0m\u001b[1;33m\u001b[0m\u001b[1;33m\u001b[0m\u001b[0m\n",
      "\u001b[1;32m<ipython-input-12-e2c92760f775>\u001b[0m in \u001b[0;36mgetCity\u001b[1;34m(soup)\u001b[0m\n\u001b[0;32m     10\u001b[0m     \u001b[1;32melse\u001b[0m\u001b[1;33m:\u001b[0m\u001b[1;33m\u001b[0m\u001b[1;33m\u001b[0m\u001b[0m\n\u001b[0;32m     11\u001b[0m         \u001b[0mq\u001b[0m\u001b[1;33m=\u001b[0m\u001b[0msoup\u001b[0m\u001b[1;33m.\u001b[0m\u001b[0mfind\u001b[0m\u001b[1;33m(\u001b[0m\u001b[1;34m'div'\u001b[0m\u001b[1;33m,\u001b[0m\u001b[1;33m{\u001b[0m\u001b[1;34m'class'\u001b[0m\u001b[1;33m:\u001b[0m\u001b[1;34m'status-grey'\u001b[0m\u001b[1;33m}\u001b[0m\u001b[1;33m)\u001b[0m\u001b[1;33m.\u001b[0m\u001b[0mtext\u001b[0m\u001b[1;33m\u001b[0m\u001b[1;33m\u001b[0m\u001b[0m\n\u001b[1;32m---> 12\u001b[1;33m         \u001b[0mcity\u001b[0m\u001b[1;33m=\u001b[0m\u001b[0mre\u001b[0m\u001b[1;33m.\u001b[0m\u001b[0mfindall\u001b[0m\u001b[1;33m(\u001b[0m\u001b[1;34m'\\г\\. \\w+\\-\\w+\\-\\w+'\u001b[0m\u001b[1;33m,\u001b[0m\u001b[0mq\u001b[0m\u001b[1;33m)\u001b[0m\u001b[1;33m[\u001b[0m\u001b[1;36m0\u001b[0m\u001b[1;33m]\u001b[0m\u001b[1;33m\u001b[0m\u001b[1;33m\u001b[0m\u001b[0m\n\u001b[0m\u001b[0;32m     13\u001b[0m     \u001b[1;32mreturn\u001b[0m \u001b[0mcity\u001b[0m\u001b[1;33m\u001b[0m\u001b[1;33m\u001b[0m\u001b[0m\n",
      "\u001b[1;31mIndexError\u001b[0m: list index out of range"
     ]
    }
   ],
   "source": [
    "## Creating a dataset of single observation\n",
    "df=pd.DataFrame(columns=[\"name\",\"demand\",\"price\",\"publications\",\"otzivy\",\"description\",\"city\",\"methods\",\"age\",\"education\"])\n",
    "data_col=psych('https://www.b17.ru/ivanivanovichkuzmin/')\n",
    "df=df.append(data_col,ignore_index=True)\n",
    "df"
   ]
  },
  {
   "cell_type": "code",
   "execution_count": 35,
   "metadata": {},
   "outputs": [],
   "source": [
    "#Page cycle\n",
    "def pagelink(meme_page1):\n",
    "    page_link='https://www.b17.ru/online/?page={}'.format(meme_page1)\n",
    "    response1 = get(page_link, headers={'User-Agent': UserAgent().chrome})\n",
    "    if not response1.ok:\n",
    "        # если сервер нам отказал, вернем пустой лист для текущей страницы\n",
    "        return [] \n",
    "    html1 = response1.content\n",
    "    soup1 = BeautifulSoup(html1,'html.parser')\n",
    "    x=soup1.find_all(\"a\",{\"class\":\"h\"})[1:]\n",
    "    lina=['https://www.b17.ru'+link.get(\"href\") for link in x]\n",
    "    return lina"
   ]
  },
  {
   "cell_type": "code",
   "execution_count": 36,
   "metadata": {},
   "outputs": [
    {
     "name": "stderr",
     "output_type": "stream",
     "text": [
      "<ipython-input-36-02d4511ab133>:6: TqdmDeprecationWarning: This function will be removed in tqdm==5.0.0\n",
      "Please use `tqdm.notebook.tqdm` instead of `tqdm.tqdm_notebook`\n",
      "  for page in tqdm_notebook(range(5),desc='Pages'):\n"
     ]
    },
    {
     "data": {
      "application/vnd.jupyter.widget-view+json": {
       "model_id": "f003469b580149e4a40aa7e02327f612",
       "version_major": 2,
       "version_minor": 0
      },
      "text/plain": [
       "HBox(children=(HTML(value='Pages'), FloatProgress(value=0.0, max=5.0), HTML(value='')))"
      ]
     },
     "metadata": {},
     "output_type": "display_data"
    },
    {
     "name": "stderr",
     "output_type": "stream",
     "text": [
      "<ipython-input-36-02d4511ab133>:8: TqdmDeprecationWarning: This function will be removed in tqdm==5.0.0\n",
      "Please use `tqdm.notebook.tqdm` instead of `tqdm.tqdm_notebook`\n",
      "  for links in tqdm_notebook(links,desc='Psy',leave=False):\n"
     ]
    },
    {
     "data": {
      "application/vnd.jupyter.widget-view+json": {
       "model_id": "",
       "version_major": 2,
       "version_minor": 0
      },
      "text/plain": [
       "HBox(children=(HTML(value='Psy'), FloatProgress(value=0.0, max=10.0), HTML(value='')))"
      ]
     },
     "metadata": {},
     "output_type": "display_data"
    },
    {
     "name": "stdout",
     "output_type": "stream",
     "text": [
      "г. Санкт-Петербург\n",
      "г. Санкт-Петербург\n",
      "https://www.b17.ru/kurakina_tn/\n",
      "https://www.b17.ru/kurakina_tn/\n",
      "https://www.b17.ru/kurakina_tn/\n",
      "https://www.b17.ru/kurakina_tn/\n",
      "https://www.b17.ru/kurakina_tn/\n",
      "https://www.b17.ru/myratovaanna/\n",
      "https://www.b17.ru/myratovaanna/\n",
      "https://www.b17.ru/myratovaanna/\n",
      "https://www.b17.ru/myratovaanna/\n",
      "https://www.b17.ru/myratovaanna/\n"
     ]
    },
    {
     "data": {
      "application/vnd.jupyter.widget-view+json": {
       "model_id": "",
       "version_major": 2,
       "version_minor": 0
      },
      "text/plain": [
       "HBox(children=(HTML(value='Psy'), FloatProgress(value=0.0, max=10.0), HTML(value='')))"
      ]
     },
     "metadata": {},
     "output_type": "display_data"
    },
    {
     "name": "stdout",
     "output_type": "stream",
     "text": [
      "г. Санкт-Петербург\n",
      "г. Санкт-Петербург\n",
      "https://www.b17.ru/kurakina_tn/\n",
      "https://www.b17.ru/kurakina_tn/\n",
      "https://www.b17.ru/kurakina_tn/\n",
      "https://www.b17.ru/kurakina_tn/\n",
      "https://www.b17.ru/kurakina_tn/\n",
      "https://www.b17.ru/myratovaanna/\n",
      "https://www.b17.ru/myratovaanna/\n",
      "https://www.b17.ru/myratovaanna/\n",
      "https://www.b17.ru/myratovaanna/\n",
      "https://www.b17.ru/myratovaanna/\n"
     ]
    },
    {
     "data": {
      "application/vnd.jupyter.widget-view+json": {
       "model_id": "",
       "version_major": 2,
       "version_minor": 0
      },
      "text/plain": [
       "HBox(children=(HTML(value='Psy'), FloatProgress(value=0.0, max=10.0), HTML(value='')))"
      ]
     },
     "metadata": {},
     "output_type": "display_data"
    },
    {
     "name": "stdout",
     "output_type": "stream",
     "text": [
      "https://www.b17.ru/liudiam/\n",
      "https://www.b17.ru/liudiam/\n",
      "https://www.b17.ru/liudiam/\n",
      "https://www.b17.ru/liudiam/\n",
      "https://www.b17.ru/liudiam/\n"
     ]
    },
    {
     "data": {
      "application/vnd.jupyter.widget-view+json": {
       "model_id": "",
       "version_major": 2,
       "version_minor": 0
      },
      "text/plain": [
       "HBox(children=(HTML(value='Psy'), FloatProgress(value=0.0, max=10.0), HTML(value='')))"
      ]
     },
     "metadata": {},
     "output_type": "display_data"
    },
    {
     "name": "stdout",
     "output_type": "stream",
     "text": [
      "https://www.b17.ru/snegurovich/\n",
      "https://www.b17.ru/snegurovich/\n",
      "https://www.b17.ru/snegurovich/\n",
      "https://www.b17.ru/snegurovich/\n",
      "https://www.b17.ru/snegurovich/\n",
      "г. Вольно-Надеждинское\n"
     ]
    },
    {
     "data": {
      "application/vnd.jupyter.widget-view+json": {
       "model_id": "",
       "version_major": 2,
       "version_minor": 0
      },
      "text/plain": [
       "HBox(children=(HTML(value='Psy'), FloatProgress(value=0.0, max=10.0), HTML(value='')))"
      ]
     },
     "metadata": {},
     "output_type": "display_data"
    },
    {
     "name": "stdout",
     "output_type": "stream",
     "text": [
      "г. Франкфурт-на\n",
      "г. Санкт-Петербург\n",
      "г. Санкт-Петербург\n",
      "\n"
     ]
    }
   ],
   "source": [
    "#Retrieving n observations from website\n",
    "\n",
    "df10=pd.DataFrame(columns=[\"name\",\"demand\",\"price\",\"publications\",\"otzivy\",\"description\",\"city\",\"methods\",\"age\",\"education\"])\n",
    "\n",
    "\n",
    "for page in tqdm_notebook(range(5),desc='Pages'):\n",
    "    links=pagelink(page)\n",
    "    for links in tqdm_notebook(links,desc='Psy',leave=False):\n",
    "        for i in range(5):\n",
    "            try:\n",
    "                data_col=psych(links)\n",
    "                df10=df10.append(data_col,ignore_index=True)\n",
    "                break\n",
    "            except:\n",
    "                print(links)\n",
    "                continue\n",
    "        time.sleep(3)        \n"
   ]
  },
  {
   "cell_type": "code",
   "execution_count": 39,
   "metadata": {},
   "outputs": [
    {
     "data": {
      "text/html": [
       "<div>\n",
       "<style scoped>\n",
       "    .dataframe tbody tr th:only-of-type {\n",
       "        vertical-align: middle;\n",
       "    }\n",
       "\n",
       "    .dataframe tbody tr th {\n",
       "        vertical-align: top;\n",
       "    }\n",
       "\n",
       "    .dataframe thead th {\n",
       "        text-align: right;\n",
       "    }\n",
       "</style>\n",
       "<table border=\"1\" class=\"dataframe\">\n",
       "  <thead>\n",
       "    <tr style=\"text-align: right;\">\n",
       "      <th></th>\n",
       "      <th>name</th>\n",
       "      <th>demand</th>\n",
       "      <th>price</th>\n",
       "      <th>publications</th>\n",
       "      <th>otzivy</th>\n",
       "      <th>description</th>\n",
       "      <th>city</th>\n",
       "      <th>methods</th>\n",
       "      <th>age</th>\n",
       "      <th>education</th>\n",
       "      <th>marital_status</th>\n",
       "    </tr>\n",
       "  </thead>\n",
       "  <tbody>\n",
       "    <tr>\n",
       "      <th>39</th>\n",
       "      <td>Назаренко Ирина Сергеевна</td>\n",
       "      <td>375</td>\n",
       "      <td>2500</td>\n",
       "      <td>75</td>\n",
       "      <td>24</td>\n",
       "      <td>Есть опыт длительной личной терапии, тщательно...</td>\n",
       "      <td>г. Валенсия</td>\n",
       "      <td>Личностно центрированная терапия Психосинтез Э...</td>\n",
       "      <td>45</td>\n",
       "      <td>[Академия Постдипломного Педагогического Образ...</td>\n",
       "      <td>замужем</td>\n",
       "    </tr>\n",
       "    <tr>\n",
       "      <th>40</th>\n",
       "      <td>Кириллова Софья Григорьевна</td>\n",
       "      <td>298</td>\n",
       "      <td>1800</td>\n",
       "      <td>71</td>\n",
       "      <td>57</td>\n",
       "      <td>Психологическое благополучие - это состояние, ...</td>\n",
       "      <td>г. Санкт-Петербург</td>\n",
       "      <td>Гештальт терапия Когнитивно поведенческая тера...</td>\n",
       "      <td>0</td>\n",
       "      <td>[Российский государственный университет имени ...</td>\n",
       "      <td>замужем</td>\n",
       "    </tr>\n",
       "    <tr>\n",
       "      <th>41</th>\n",
       "      <td>Алёна Андреевна Самортова</td>\n",
       "      <td>611</td>\n",
       "      <td>3000</td>\n",
       "      <td>253</td>\n",
       "      <td>45</td>\n",
       "      <td>Провожу офлайн и онлайн консультирование по во...</td>\n",
       "      <td>г. Москва</td>\n",
       "      <td>Гипнотерапия Когнитивно поведенческая терапия ...</td>\n",
       "      <td>30</td>\n",
       "      <td>[Частное учреждение \"Образовательная организац...</td>\n",
       "      <td>Замужем</td>\n",
       "    </tr>\n",
       "    <tr>\n",
       "      <th>42</th>\n",
       "      <td>Стегний Павел Анатольевич</td>\n",
       "      <td>140</td>\n",
       "      <td>1700</td>\n",
       "      <td>342</td>\n",
       "      <td>17</td>\n",
       "      <td>Специализация: панические атаки и ВСД; самооце...</td>\n",
       "      <td>г. Кременчуг</td>\n",
       "      <td>Нейро лингвистическое программирование Психоан...</td>\n",
       "      <td>57</td>\n",
       "      <td>[Полтавский национальный педагогический универ...</td>\n",
       "      <td>женат</td>\n",
       "    </tr>\n",
       "    <tr>\n",
       "      <th>43</th>\n",
       "      <td>Яковкина Юлия Александровна</td>\n",
       "      <td>207</td>\n",
       "      <td>4000</td>\n",
       "      <td>185</td>\n",
       "      <td>7</td>\n",
       "      <td>Я - магистр психологии, аспирант факультета Пс...</td>\n",
       "      <td>г. Санкт-Петербург</td>\n",
       "      <td>Когнитивная терапия Когнитивно поведенческая т...</td>\n",
       "      <td>34</td>\n",
       "      <td>[РГПУ им. А.И. Герцена, Диплом Номинанта ХХ На...</td>\n",
       "      <td>замужем</td>\n",
       "    </tr>\n",
       "  </tbody>\n",
       "</table>\n",
       "</div>"
      ],
      "text/plain": [
       "                           name demand price publications otzivy  \\\n",
       "39    Назаренко Ирина Сергеевна    375  2500           75     24   \n",
       "40  Кириллова Софья Григорьевна    298  1800           71     57   \n",
       "41    Алёна Андреевна Самортова    611  3000          253     45   \n",
       "42    Стегний Павел Анатольевич    140  1700          342     17   \n",
       "43  Яковкина Юлия Александровна    207  4000          185      7   \n",
       "\n",
       "                                          description                city  \\\n",
       "39  Есть опыт длительной личной терапии, тщательно...         г. Валенсия   \n",
       "40  Психологическое благополучие - это состояние, ...  г. Санкт-Петербург   \n",
       "41  Провожу офлайн и онлайн консультирование по во...           г. Москва   \n",
       "42  Специализация: панические атаки и ВСД; самооце...        г. Кременчуг   \n",
       "43  Я - магистр психологии, аспирант факультета Пс...  г. Санкт-Петербург   \n",
       "\n",
       "                                              methods age  \\\n",
       "39  Личностно центрированная терапия Психосинтез Э...  45   \n",
       "40  Гештальт терапия Когнитивно поведенческая тера...   0   \n",
       "41  Гипнотерапия Когнитивно поведенческая терапия ...  30   \n",
       "42  Нейро лингвистическое программирование Психоан...  57   \n",
       "43  Когнитивная терапия Когнитивно поведенческая т...  34   \n",
       "\n",
       "                                            education marital_status  \n",
       "39  [Академия Постдипломного Педагогического Образ...        замужем  \n",
       "40  [Российский государственный университет имени ...        замужем  \n",
       "41  [Частное учреждение \"Образовательная организац...        Замужем  \n",
       "42  [Полтавский национальный педагогический универ...          женат  \n",
       "43  [РГПУ им. А.И. Герцена, Диплом Номинанта ХХ На...        замужем  "
      ]
     },
     "execution_count": 39,
     "metadata": {},
     "output_type": "execute_result"
    }
   ],
   "source": [
    "df10.tail()"
   ]
  },
  {
   "cell_type": "code",
   "execution_count": 49,
   "metadata": {},
   "outputs": [
    {
     "name": "stderr",
     "output_type": "stream",
     "text": [
      "<ipython-input-49-b380bc4f2659>:1: TqdmDeprecationWarning: This function will be removed in tqdm==5.0.0\n",
      "Please use `tqdm.notebook.tqdm` instead of `tqdm.tqdm_notebook`\n",
      "  for link in tqdm_notebook(lina):\n"
     ]
    },
    {
     "data": {
      "application/vnd.jupyter.widget-view+json": {
       "model_id": "d0952547fead46cdb805d2cdf9f4920f",
       "version_major": 2,
       "version_minor": 0
      },
      "text/plain": [
       "HBox(children=(HTML(value=''), FloatProgress(value=0.0, max=10.0), HTML(value='')))"
      ]
     },
     "metadata": {},
     "output_type": "display_data"
    },
    {
     "name": "stdout",
     "output_type": "stream",
     "text": [
      "г. Вольно-Надеждинское\n",
      "г. Франкфурт-на\n",
      "\n"
     ]
    }
   ],
   "source": [
    "for link in tqdm_notebook(lina):\n",
    "    try:\n",
    "        data_col=psych(link)\n",
    "        df10=df10.append(data_col,ignore_index=True)\n",
    "    except: \n",
    "        print(link)"
   ]
  },
  {
   "cell_type": "code",
   "execution_count": 102,
   "metadata": {},
   "outputs": [],
   "source": [
    "df10.to_csv('data1.csv',index=False,encoding='UTF-8')"
   ]
  },
  {
   "cell_type": "code",
   "execution_count": null,
   "metadata": {},
   "outputs": [],
   "source": []
  }
 ],
 "metadata": {
  "kernelspec": {
   "display_name": "Python 3",
   "language": "python",
   "name": "python3"
  },
  "language_info": {
   "codemirror_mode": {
    "name": "ipython",
    "version": 3
   },
   "file_extension": ".py",
   "mimetype": "text/x-python",
   "name": "python",
   "nbconvert_exporter": "python",
   "pygments_lexer": "ipython3",
   "version": "3.8.5"
  }
 },
 "nbformat": 4,
 "nbformat_minor": 4
}
