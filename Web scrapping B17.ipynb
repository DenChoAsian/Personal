{
 "cells": [
  {
   "cell_type": "code",
   "execution_count": null,
   "metadata": {},
   "outputs": [],
   "source": []
  },
  {
   "cell_type": "markdown",
   "metadata": {},
   "source": [
    "# <center> Web Scrapping of the website www.B17.ru </center>"
   ]
  },
  {
   "cell_type": "markdown",
   "metadata": {},
   "source": [
    "For midterm project, we have to collect a raw data from the website www.b17.ru which contains numerous psychologists' profiles that we need to scrap onto our file. Here is the code that stands for parsing all profiles with respective attributes such as city,price,demand and so on. This data will help us to conduct more analysis such as Multiple Regression"
   ]
  },
  {
   "cell_type": "code",
   "execution_count": 2,
   "metadata": {},
   "outputs": [],
   "source": [
    "from requests import get \n",
    "import pandas as pd\n",
    "import numpy as np\n",
    "import time\n",
    "from bs4 import BeautifulSoup\n",
    "from fake_useragent import UserAgent\n",
    "import re\n",
    "from tqdm import tqdm_notebook"
   ]
  },
  {
   "cell_type": "code",
   "execution_count": 3,
   "metadata": {},
   "outputs": [],
   "source": [
    "## Function for city\n",
    "def getCity(soup):\n",
    "    try:\n",
    "        q=soup.find('div',{'class':'status-grey'}).text\n",
    "        city=re.findall('\\г\\. \\w+\\-\\w+',q)[0]\n",
    "        print(city)\n",
    "    except: \n",
    "        q=soup.find('div',{'class':'status-grey'}).text\n",
    "        city=re.findall('\\г\\. \\w+',q)[0]\n",
    "\n",
    "    return city    "
   ]
  },
  {
   "cell_type": "code",
   "execution_count": 4,
   "metadata": {},
   "outputs": [],
   "source": [
    "## Function for price\n",
    "\n",
    "def getPrice(soup):\n",
    "    obj=soup.find('div',{'style':'margin: 10px 0 0; padding-left: 21px; position: relative;'})\n",
    "    obj=obj.text\n",
    "    x=re.search('Видео-консультация',obj)\n",
    "    if (x!=None):\n",
    "        return [str(s) for s in obj.split() if s.isdigit()][0]\n",
    "    else:\n",
    "        return np.nan"
   ]
  },
  {
   "cell_type": "code",
   "execution_count": 5,
   "metadata": {},
   "outputs": [],
   "source": [
    "## Function for demand - doesnt work\n",
    "def getProperties(soup,stats):\n",
    "    try:\n",
    "        obj= soup.find('div',{'style':'margin: 6px 0; font-size: 13px; text-align: center;'})\n",
    "        qwe=obj.find('a',{'class':stats})\n",
    "        qwe=qwe.text\n",
    "        obj=[int(s) for s in qwe.split() if s.isdigit()]\n",
    "    except: \n",
    "        obj=np.nan\n",
    "    return obj"
   ]
  },
  {
   "cell_type": "code",
   "execution_count": 6,
   "metadata": {},
   "outputs": [],
   "source": [
    "## Function for N publications\n",
    "def publication(soup):\n",
    "    try:\n",
    "        pub=soup.find('div',{'class':'vkladki5 no-print'}).find('a',{'id':'vkl_article'}).find('span',{'class':'n'})\n",
    "        pub=pub.text\n",
    "    except:\n",
    "        pub=0\n",
    "    return pub  "
   ]
  },
  {
   "cell_type": "code",
   "execution_count": 7,
   "metadata": {},
   "outputs": [],
   "source": [
    "def feedback(soup):\n",
    "    try:\n",
    "        fd=soup.find('div',{'class':'vkladki5 no-print'}).find('a',{'id':'vkl_otzyv'}).find('span',{'class':'n'})\n",
    "        fd=fd.text\n",
    "    except:\n",
    "        fd=0\n",
    "    return fd  "
   ]
  },
  {
   "cell_type": "code",
   "execution_count": 8,
   "metadata": {},
   "outputs": [],
   "source": [
    "## Function for methods of work\n",
    "def methods_work(soup):\n",
    "    try:\n",
    "        methods=soup.find('div',{'style':'margin: 20px 0;'}).text\n",
    "        methods=re.split(r'\\W+',methods)[3:]\n",
    "        methods=' '.join(methods) #to convert from list to string\n",
    "    except: methods=np.nan    \n",
    "    return methods"
   ]
  },
  {
   "cell_type": "code",
   "execution_count": 9,
   "metadata": {},
   "outputs": [],
   "source": [
    "## Function for marital status\n",
    "def marital_status(soup):\n",
    "    try:\n",
    "        marital=soup.find_all('div',{'style':'margin: 10px 0;'})[2].text #several info with the same tags, parsed only MS (2)\n",
    "        marital=re.split(r'\\W+',marital)[2:]\n",
    "        marital=' '.join(marital)\n",
    "    except: marital=np.nan\n",
    "    return marital"
   ]
  },
  {
   "cell_type": "code",
   "execution_count": 10,
   "metadata": {},
   "outputs": [],
   "source": [
    "## Function for age\n",
    "def age_con(soup):\n",
    "    try:\n",
    "        q=soup.find_all('div',{'style':'margin: 10px 0;'})[1].text\n",
    "        q=re.findall('\\d\\d\\d\\d',q)\n",
    "        q=''.join(q)\n",
    "        q=2021-int(q)\n",
    "    except: q=0    \n",
    "    return q"
   ]
  },
  {
   "cell_type": "code",
   "execution_count": 11,
   "metadata": {},
   "outputs": [],
   "source": [
    "## Function for education\n",
    "def education(soup):\n",
    "    edu=soup.find('div',{'id':'vuz'}).find('div',{'class':'vkladki_body_in vkladki_body_list'}).find('div',{'id':'vuz_list_s'}).text\n",
    "    edu=list(edu.split(\"\\n\"))[:-1]\n",
    "    return edu"
   ]
  },
  {
   "cell_type": "markdown",
   "metadata": {},
   "source": [
    "### We finished to create a separate functions that retrieve a specific information from each profile. Lets combine it into single function"
   ]
  },
  {
   "cell_type": "code",
   "execution_count": 12,
   "metadata": {},
   "outputs": [],
   "source": [
    "def psych(sor):\n",
    "    \n",
    "    #Created html paper\n",
    "\n",
    "    response = get(sor, headers={'User-Agent': UserAgent().chrome})\n",
    "    html = response.content\n",
    "    soup = BeautifulSoup(html,'html.parser')\n",
    "    \n",
    "    if not response.ok:\n",
    "        # если сервер нам отказал, вернем статус ошибки \n",
    "        return response.status_code\n",
    "    \n",
    "    #Apply function for demand\n",
    "    demand=soup.find('div',{'style':'margin: 6px 0; font-size: 13px; text-align: center;'}).find('a')\n",
    "    demand=demand.text\n",
    "    demand=re.findall(\"\\d+\",demand)[0]\n",
    "\n",
    "    \n",
    "    #Apply function for price\n",
    "    price=getPrice(soup)\n",
    "    \n",
    "    #Extract city \n",
    "    city=getCity(soup)\n",
    "    \n",
    "    #Extract name\n",
    "    name=soup.find('h1').text\n",
    "    \n",
    "    #Extract number of Publications \n",
    "    pub=publication(soup)\n",
    "    \n",
    "    #Extract number of Feedbacks\n",
    "    otz=feedback(soup)\n",
    "    \n",
    "    #Extract description\n",
    "    des= soup.find('div',{'class':'vkladki_body0'})\n",
    "    des=des.find('p')\n",
    "    des=des.text\n",
    "    \n",
    "    #Extract methods of work\n",
    "    methods=methods_work(soup)\n",
    "    \n",
    "    #Extract marital status\n",
    "    marital=marital_status(soup)\n",
    "    \n",
    "    #Extract age\n",
    "    age=age_con(soup)\n",
    "    \n",
    "    #Extract education\n",
    "    edu=education(soup)\n",
    "    data_col={\n",
    "        \"name\":name,\n",
    "        \"demand\":demand,\n",
    "        \"price\":price,\n",
    "        \"publications\":pub,\n",
    "        \"otzivy\":otz,\n",
    "        \"description\":des,\n",
    "        \"city\":city,\n",
    "        \"methods\":methods,\n",
    "        \"marital_status\":marital,\n",
    "        \"age\":age,\n",
    "        \"education\":edu\n",
    "    }\n",
    "    \n",
    "    return data_col"
   ]
  },
  {
   "cell_type": "code",
   "execution_count": 14,
   "metadata": {},
   "outputs": [
    {
     "name": "stdout",
     "output_type": "stream",
     "text": [
      "г. Вольно-Надеждинское\n"
     ]
    },
    {
     "data": {
      "text/html": [
       "<div>\n",
       "<style scoped>\n",
       "    .dataframe tbody tr th:only-of-type {\n",
       "        vertical-align: middle;\n",
       "    }\n",
       "\n",
       "    .dataframe tbody tr th {\n",
       "        vertical-align: top;\n",
       "    }\n",
       "\n",
       "    .dataframe thead th {\n",
       "        text-align: right;\n",
       "    }\n",
       "</style>\n",
       "<table border=\"1\" class=\"dataframe\">\n",
       "  <thead>\n",
       "    <tr style=\"text-align: right;\">\n",
       "      <th></th>\n",
       "      <th>name</th>\n",
       "      <th>demand</th>\n",
       "      <th>price</th>\n",
       "      <th>publications</th>\n",
       "      <th>otzivy</th>\n",
       "      <th>description</th>\n",
       "      <th>city</th>\n",
       "      <th>methods</th>\n",
       "      <th>age</th>\n",
       "      <th>education</th>\n",
       "      <th>marital_status</th>\n",
       "    </tr>\n",
       "  </thead>\n",
       "  <tbody>\n",
       "    <tr>\n",
       "      <th>0</th>\n",
       "      <td>Иван Кузьмин</td>\n",
       "      <td>690</td>\n",
       "      <td>NaN</td>\n",
       "      <td>161</td>\n",
       "      <td>57</td>\n",
       "      <td>Личный сайт: psy-ru-world.ruИнтернет-магазин (...</td>\n",
       "      <td>г. Вольно-Надеждинское</td>\n",
       "      <td></td>\n",
       "      <td>44</td>\n",
       "      <td>[Саратовский военно-медицинский институт МО РФ...</td>\n",
       "      <td>Женат трое детей 1 внук Жена детский психолог ...</td>\n",
       "    </tr>\n",
       "  </tbody>\n",
       "</table>\n",
       "</div>"
      ],
      "text/plain": [
       "           name demand price publications otzivy  \\\n",
       "0  Иван Кузьмин    690   NaN          161     57   \n",
       "\n",
       "                                         description                    city  \\\n",
       "0  Личный сайт: psy-ru-world.ruИнтернет-магазин (...  г. Вольно-Надеждинское   \n",
       "\n",
       "  methods age                                          education  \\\n",
       "0          44  [Саратовский военно-медицинский институт МО РФ...   \n",
       "\n",
       "                                      marital_status  \n",
       "0  Женат трое детей 1 внук Жена детский психолог ...  "
      ]
     },
     "execution_count": 14,
     "metadata": {},
     "output_type": "execute_result"
    }
   ],
   "source": [
    "## Creating a dataset of single observation\n",
    "df=pd.DataFrame(columns=[\"name\",\"demand\",\"price\",\"publications\",\"otzivy\",\"description\",\"city\",\"methods\",\"age\",\"education\"])\n",
    "data_col=psych('https://www.b17.ru/ivanivanovichkuzmin/')\n",
    "df=df.append(data_col,ignore_index=True)\n",
    "df"
   ]
  },
  {
   "cell_type": "markdown",
   "metadata": {},
   "source": [
    "### Here is the first attemp to parse a single profile, so it seems succesfull. Now lets create a cycle that would retrieve all info from all profiles"
   ]
  },
  {
   "cell_type": "code",
   "execution_count": 15,
   "metadata": {},
   "outputs": [],
   "source": [
    "#Page cycle\n",
    "def pagelink(meme_page1):\n",
    "    page_link='https://www.b17.ru/online/?page={}'.format(meme_page1)\n",
    "    response1 = get(page_link, headers={'User-Agent': UserAgent().chrome})\n",
    "    if not response1.ok:\n",
    "        # если сервер нам отказал, вернем пустой лист для текущей страницы\n",
    "        return [] \n",
    "    html1 = response1.content\n",
    "    soup1 = BeautifulSoup(html1,'html.parser')\n",
    "    x=soup1.find_all(\"a\",{\"class\":\"h\"})[1:]\n",
    "    lina=['https://www.b17.ru'+link.get(\"href\") for link in x]\n",
    "    return lina"
   ]
  },
  {
   "cell_type": "markdown",
   "metadata": {},
   "source": [
    "### So far we are not going to parse all data from the website. Lets check our code on 5 pages of B17"
   ]
  },
  {
   "cell_type": "code",
   "execution_count": 16,
   "metadata": {},
   "outputs": [
    {
     "name": "stderr",
     "output_type": "stream",
     "text": [
      "<ipython-input-16-cd15fe68b7a4>:6: TqdmDeprecationWarning: This function will be removed in tqdm==5.0.0\n",
      "Please use `tqdm.notebook.tqdm` instead of `tqdm.tqdm_notebook`\n",
      "  for page in tqdm_notebook(range(5),desc='Pages'):\n"
     ]
    },
    {
     "data": {
      "application/vnd.jupyter.widget-view+json": {
       "model_id": "cd88088c0ec44bc5bbd6da118cd9ea40",
       "version_major": 2,
       "version_minor": 0
      },
      "text/plain": [
       "HBox(children=(HTML(value='Pages'), FloatProgress(value=0.0, max=5.0), HTML(value='')))"
      ]
     },
     "metadata": {},
     "output_type": "display_data"
    },
    {
     "name": "stderr",
     "output_type": "stream",
     "text": [
      "<ipython-input-16-cd15fe68b7a4>:8: TqdmDeprecationWarning: This function will be removed in tqdm==5.0.0\n",
      "Please use `tqdm.notebook.tqdm` instead of `tqdm.tqdm_notebook`\n",
      "  for links in tqdm_notebook(links,desc='Psy',leave=False):\n"
     ]
    },
    {
     "data": {
      "application/vnd.jupyter.widget-view+json": {
       "model_id": "",
       "version_major": 2,
       "version_minor": 0
      },
      "text/plain": [
       "HBox(children=(HTML(value='Psy'), FloatProgress(value=0.0, max=10.0), HTML(value='')))"
      ]
     },
     "metadata": {},
     "output_type": "display_data"
    },
    {
     "name": "stdout",
     "output_type": "stream",
     "text": [
      "г. Санкт-Петербург\n",
      "г. Санкт-Петербург\n"
     ]
    },
    {
     "data": {
      "application/vnd.jupyter.widget-view+json": {
       "model_id": "",
       "version_major": 2,
       "version_minor": 0
      },
      "text/plain": [
       "HBox(children=(HTML(value='Psy'), FloatProgress(value=0.0, max=10.0), HTML(value='')))"
      ]
     },
     "metadata": {},
     "output_type": "display_data"
    },
    {
     "name": "stdout",
     "output_type": "stream",
     "text": [
      "г. Санкт-Петербург\n",
      "г. Санкт-Петербург\n"
     ]
    },
    {
     "data": {
      "application/vnd.jupyter.widget-view+json": {
       "model_id": "",
       "version_major": 2,
       "version_minor": 0
      },
      "text/plain": [
       "HBox(children=(HTML(value='Psy'), FloatProgress(value=0.0, max=10.0), HTML(value='')))"
      ]
     },
     "metadata": {},
     "output_type": "display_data"
    },
    {
     "data": {
      "application/vnd.jupyter.widget-view+json": {
       "model_id": "",
       "version_major": 2,
       "version_minor": 0
      },
      "text/plain": [
       "HBox(children=(HTML(value='Psy'), FloatProgress(value=0.0, max=10.0), HTML(value='')))"
      ]
     },
     "metadata": {},
     "output_type": "display_data"
    },
    {
     "name": "stdout",
     "output_type": "stream",
     "text": [
      "г. Вольно-Надеждинское\n"
     ]
    },
    {
     "data": {
      "application/vnd.jupyter.widget-view+json": {
       "model_id": "",
       "version_major": 2,
       "version_minor": 0
      },
      "text/plain": [
       "HBox(children=(HTML(value='Psy'), FloatProgress(value=0.0, max=10.0), HTML(value='')))"
      ]
     },
     "metadata": {},
     "output_type": "display_data"
    },
    {
     "name": "stdout",
     "output_type": "stream",
     "text": [
      "г. Франкфурт-на\n",
      "г. Санкт-Петербург\n",
      "\n"
     ]
    }
   ],
   "source": [
    "#Retrieving n observations from website\n",
    "\n",
    "df10=pd.DataFrame(columns=[\"name\",\"demand\",\"price\",\"publications\",\"otzivy\",\"description\",\"city\",\"methods\",\"age\",\"education\"])\n",
    "\n",
    "\n",
    "for page in tqdm_notebook(range(5),desc='Pages'):\n",
    "    links=pagelink(page)\n",
    "    for links in tqdm_notebook(links,desc='Psy',leave=False):\n",
    "        for i in range(5):\n",
    "            try:\n",
    "                data_col=psych(links)\n",
    "                df10=df10.append(data_col,ignore_index=True)\n",
    "                break\n",
    "            except:\n",
    "                \n",
    "                continue\n",
    "        time.sleep(3)        \n"
   ]
  },
  {
   "cell_type": "code",
   "execution_count": 17,
   "metadata": {},
   "outputs": [
    {
     "data": {
      "text/html": [
       "<div>\n",
       "<style scoped>\n",
       "    .dataframe tbody tr th:only-of-type {\n",
       "        vertical-align: middle;\n",
       "    }\n",
       "\n",
       "    .dataframe tbody tr th {\n",
       "        vertical-align: top;\n",
       "    }\n",
       "\n",
       "    .dataframe thead th {\n",
       "        text-align: right;\n",
       "    }\n",
       "</style>\n",
       "<table border=\"1\" class=\"dataframe\">\n",
       "  <thead>\n",
       "    <tr style=\"text-align: right;\">\n",
       "      <th></th>\n",
       "      <th>name</th>\n",
       "      <th>demand</th>\n",
       "      <th>price</th>\n",
       "      <th>publications</th>\n",
       "      <th>otzivy</th>\n",
       "      <th>description</th>\n",
       "      <th>city</th>\n",
       "      <th>methods</th>\n",
       "      <th>age</th>\n",
       "      <th>education</th>\n",
       "      <th>marital_status</th>\n",
       "    </tr>\n",
       "  </thead>\n",
       "  <tbody>\n",
       "    <tr>\n",
       "      <th>0</th>\n",
       "      <td>Кузьмичев Александр Сергеевич</td>\n",
       "      <td>967</td>\n",
       "      <td>7000</td>\n",
       "      <td>1453</td>\n",
       "      <td>175</td>\n",
       "      <td>Моя специализация – это эмоциональные расстрой...</td>\n",
       "      <td>г. Краснодар</td>\n",
       "      <td>Коучинг Поведенческая психотерапия Развитие Эм...</td>\n",
       "      <td>0</td>\n",
       "      <td>[Сибирский Государственный Медицинский Универс...</td>\n",
       "      <td>женат</td>\n",
       "    </tr>\n",
       "    <tr>\n",
       "      <th>1</th>\n",
       "      <td>Александр Молярук</td>\n",
       "      <td>543</td>\n",
       "      <td>4500</td>\n",
       "      <td>979</td>\n",
       "      <td>148</td>\n",
       "      <td>БЕСПЛАТНЫЙ онлайн-интенсив СТОП ТРЕВОГА: [ссыл...</td>\n",
       "      <td>г. Владивосток</td>\n",
       "      <td>Гештальт терапия Гипнотерапия Когнитивная тера...</td>\n",
       "      <td>51</td>\n",
       "      <td>[МГУ им. адм. Невельского (Владивосток), Уссур...</td>\n",
       "      <td>Женат</td>\n",
       "    </tr>\n",
       "    <tr>\n",
       "      <th>2</th>\n",
       "      <td>Машин Владислав Леонидович</td>\n",
       "      <td>1076</td>\n",
       "      <td>2500</td>\n",
       "      <td>1483</td>\n",
       "      <td>93</td>\n",
       "      <td>тел.: +7 ( 965 ) 317 - 56 - 12 адреса: м.\"КУЗЬ...</td>\n",
       "      <td>г. Москва</td>\n",
       "      <td>Гештальт терапия Системная семейная терапия</td>\n",
       "      <td>43</td>\n",
       "      <td>[Московский Социально-Педагогический Институт,...</td>\n",
       "      <td>в официальных отношениях не состою</td>\n",
       "    </tr>\n",
       "    <tr>\n",
       "      <th>3</th>\n",
       "      <td>Олег Владимирович Сурков</td>\n",
       "      <td>1010</td>\n",
       "      <td>2500</td>\n",
       "      <td>856</td>\n",
       "      <td>114</td>\n",
       "      <td>Здравствуйте, я Олег Сурков. Мои консультации ...</td>\n",
       "      <td>г. Москва</td>\n",
       "      <td>Арт терапия Коучинг Поведенческая психотерапия...</td>\n",
       "      <td>63</td>\n",
       "      <td>[МГУ им. М.В. Ломоносова, Образовательная прог...</td>\n",
       "      <td>есть</td>\n",
       "    </tr>\n",
       "    <tr>\n",
       "      <th>4</th>\n",
       "      <td>Наталия Филимонова</td>\n",
       "      <td>1494</td>\n",
       "      <td>4000</td>\n",
       "      <td>1487</td>\n",
       "      <td>55</td>\n",
       "      <td>С парами тоже работаю online - одновременно, ж...</td>\n",
       "      <td>г. Санкт-Петербург</td>\n",
       "      <td>Арт терапия Гипнотерапия Когнитивно поведенчес...</td>\n",
       "      <td>53</td>\n",
       "      <td>[Московский Государственный Университет, Ставр...</td>\n",
       "      <td>Замужем</td>\n",
       "    </tr>\n",
       "  </tbody>\n",
       "</table>\n",
       "</div>"
      ],
      "text/plain": [
       "                            name demand price publications otzivy  \\\n",
       "0  Кузьмичев Александр Сергеевич    967  7000         1453    175   \n",
       "1              Александр Молярук    543  4500          979    148   \n",
       "2     Машин Владислав Леонидович   1076  2500         1483     93   \n",
       "3       Олег Владимирович Сурков   1010  2500          856    114   \n",
       "4             Наталия Филимонова   1494  4000         1487     55   \n",
       "\n",
       "                                         description                city  \\\n",
       "0  Моя специализация – это эмоциональные расстрой...        г. Краснодар   \n",
       "1  БЕСПЛАТНЫЙ онлайн-интенсив СТОП ТРЕВОГА: [ссыл...      г. Владивосток   \n",
       "2  тел.: +7 ( 965 ) 317 - 56 - 12 адреса: м.\"КУЗЬ...           г. Москва   \n",
       "3  Здравствуйте, я Олег Сурков. Мои консультации ...           г. Москва   \n",
       "4  С парами тоже работаю online - одновременно, ж...  г. Санкт-Петербург   \n",
       "\n",
       "                                             methods age  \\\n",
       "0  Коучинг Поведенческая психотерапия Развитие Эм...   0   \n",
       "1  Гештальт терапия Гипнотерапия Когнитивная тера...  51   \n",
       "2        Гештальт терапия Системная семейная терапия  43   \n",
       "3  Арт терапия Коучинг Поведенческая психотерапия...  63   \n",
       "4  Арт терапия Гипнотерапия Когнитивно поведенчес...  53   \n",
       "\n",
       "                                           education  \\\n",
       "0  [Сибирский Государственный Медицинский Универс...   \n",
       "1  [МГУ им. адм. Невельского (Владивосток), Уссур...   \n",
       "2  [Московский Социально-Педагогический Институт,...   \n",
       "3  [МГУ им. М.В. Ломоносова, Образовательная прог...   \n",
       "4  [Московский Государственный Университет, Ставр...   \n",
       "\n",
       "                       marital_status  \n",
       "0                               женат  \n",
       "1                               Женат  \n",
       "2  в официальных отношениях не состою  \n",
       "3                                есть  \n",
       "4                             Замужем  "
      ]
     },
     "execution_count": 17,
     "metadata": {},
     "output_type": "execute_result"
    }
   ],
   "source": [
    "df10.head()"
   ]
  },
  {
   "cell_type": "code",
   "execution_count": 102,
   "metadata": {},
   "outputs": [],
   "source": [
    "df10.to_csv('data1.csv',index=False,encoding='UTF-8')"
   ]
  },
  {
   "cell_type": "code",
   "execution_count": null,
   "metadata": {},
   "outputs": [],
   "source": []
  }
 ],
 "metadata": {
  "kernelspec": {
   "display_name": "Python 3",
   "language": "python",
   "name": "python3"
  },
  "language_info": {
   "codemirror_mode": {
    "name": "ipython",
    "version": 3
   },
   "file_extension": ".py",
   "mimetype": "text/x-python",
   "name": "python",
   "nbconvert_exporter": "python",
   "pygments_lexer": "ipython3",
   "version": "3.8.5"
  }
 },
 "nbformat": 4,
 "nbformat_minor": 4
}
