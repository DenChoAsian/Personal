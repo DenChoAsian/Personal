{
 "cells": [
  {
   "cell_type": "markdown",
   "metadata": {},
   "source": [
    "# Dummy marketing and Sales Data"
   ]
  },
  {
   "cell_type": "markdown",
   "metadata": {},
   "source": [
    "This data contains a number of products' sales with corresponding budgets (TV, Radio, Social Media, Influencer)"
   ]
  },
  {
   "cell_type": "code",
   "execution_count": 220,
   "metadata": {},
   "outputs": [],
   "source": [
    "import pandas as pd\n",
    "import numpy as np\n",
    "import seaborn as sns\n",
    "import matplotlib.pyplot as plt\n",
    "plt.style.use('ggplot')"
   ]
  },
  {
   "cell_type": "code",
   "execution_count": 221,
   "metadata": {},
   "outputs": [],
   "source": [
    "df=pd.read_csv('../Денис/dataset/Dummy Data HSS.csv')"
   ]
  },
  {
   "cell_type": "code",
   "execution_count": 222,
   "metadata": {},
   "outputs": [
    {
     "name": "stdout",
     "output_type": "stream",
     "text": [
      "(4572, 5)\n"
     ]
    },
    {
     "data": {
      "text/html": [
       "<div>\n",
       "<style scoped>\n",
       "    .dataframe tbody tr th:only-of-type {\n",
       "        vertical-align: middle;\n",
       "    }\n",
       "\n",
       "    .dataframe tbody tr th {\n",
       "        vertical-align: top;\n",
       "    }\n",
       "\n",
       "    .dataframe thead th {\n",
       "        text-align: right;\n",
       "    }\n",
       "</style>\n",
       "<table border=\"1\" class=\"dataframe\">\n",
       "  <thead>\n",
       "    <tr style=\"text-align: right;\">\n",
       "      <th></th>\n",
       "      <th>TV</th>\n",
       "      <th>Radio</th>\n",
       "      <th>Social Media</th>\n",
       "      <th>Influencer</th>\n",
       "      <th>Sales</th>\n",
       "    </tr>\n",
       "  </thead>\n",
       "  <tbody>\n",
       "    <tr>\n",
       "      <th>0</th>\n",
       "      <td>16.0</td>\n",
       "      <td>6.566231</td>\n",
       "      <td>2.907983</td>\n",
       "      <td>Mega</td>\n",
       "      <td>54.732757</td>\n",
       "    </tr>\n",
       "    <tr>\n",
       "      <th>1</th>\n",
       "      <td>13.0</td>\n",
       "      <td>9.237765</td>\n",
       "      <td>2.409567</td>\n",
       "      <td>Mega</td>\n",
       "      <td>46.677897</td>\n",
       "    </tr>\n",
       "    <tr>\n",
       "      <th>2</th>\n",
       "      <td>41.0</td>\n",
       "      <td>15.886446</td>\n",
       "      <td>2.913410</td>\n",
       "      <td>Mega</td>\n",
       "      <td>150.177829</td>\n",
       "    </tr>\n",
       "    <tr>\n",
       "      <th>3</th>\n",
       "      <td>83.0</td>\n",
       "      <td>30.020028</td>\n",
       "      <td>6.922304</td>\n",
       "      <td>Mega</td>\n",
       "      <td>298.246340</td>\n",
       "    </tr>\n",
       "    <tr>\n",
       "      <th>4</th>\n",
       "      <td>15.0</td>\n",
       "      <td>8.437408</td>\n",
       "      <td>1.405998</td>\n",
       "      <td>Micro</td>\n",
       "      <td>56.594181</td>\n",
       "    </tr>\n",
       "    <tr>\n",
       "      <th>5</th>\n",
       "      <td>29.0</td>\n",
       "      <td>9.614382</td>\n",
       "      <td>1.027163</td>\n",
       "      <td>Mega</td>\n",
       "      <td>105.889148</td>\n",
       "    </tr>\n",
       "    <tr>\n",
       "      <th>6</th>\n",
       "      <td>55.0</td>\n",
       "      <td>24.893811</td>\n",
       "      <td>4.273602</td>\n",
       "      <td>Micro</td>\n",
       "      <td>198.679825</td>\n",
       "    </tr>\n",
       "    <tr>\n",
       "      <th>7</th>\n",
       "      <td>31.0</td>\n",
       "      <td>17.355042</td>\n",
       "      <td>2.289855</td>\n",
       "      <td>Nano</td>\n",
       "      <td>108.733932</td>\n",
       "    </tr>\n",
       "    <tr>\n",
       "      <th>8</th>\n",
       "      <td>76.0</td>\n",
       "      <td>24.648898</td>\n",
       "      <td>7.130116</td>\n",
       "      <td>Macro</td>\n",
       "      <td>270.189400</td>\n",
       "    </tr>\n",
       "    <tr>\n",
       "      <th>9</th>\n",
       "      <td>13.0</td>\n",
       "      <td>0.431128</td>\n",
       "      <td>2.229423</td>\n",
       "      <td>Mega</td>\n",
       "      <td>48.280582</td>\n",
       "    </tr>\n",
       "    <tr>\n",
       "      <th>10</th>\n",
       "      <td>62.0</td>\n",
       "      <td>24.345189</td>\n",
       "      <td>5.151483</td>\n",
       "      <td>Nano</td>\n",
       "      <td>224.961019</td>\n",
       "    </tr>\n",
       "    <tr>\n",
       "      <th>11</th>\n",
       "      <td>42.0</td>\n",
       "      <td>15.807337</td>\n",
       "      <td>3.194925</td>\n",
       "      <td>Mega</td>\n",
       "      <td>145.543992</td>\n",
       "    </tr>\n",
       "    <tr>\n",
       "      <th>12</th>\n",
       "      <td>64.0</td>\n",
       "      <td>20.240424</td>\n",
       "      <td>3.921148</td>\n",
       "      <td>Micro</td>\n",
       "      <td>229.632381</td>\n",
       "    </tr>\n",
       "    <tr>\n",
       "      <th>13</th>\n",
       "      <td>NaN</td>\n",
       "      <td>22.351667</td>\n",
       "      <td>3.031815</td>\n",
       "      <td>Mega</td>\n",
       "      <td>276.165351</td>\n",
       "    </tr>\n",
       "    <tr>\n",
       "      <th>14</th>\n",
       "      <td>34.0</td>\n",
       "      <td>0.226326</td>\n",
       "      <td>2.372706</td>\n",
       "      <td>Nano</td>\n",
       "      <td>121.336419</td>\n",
       "    </tr>\n",
       "  </tbody>\n",
       "</table>\n",
       "</div>"
      ],
      "text/plain": [
       "      TV      Radio  Social Media Influencer       Sales\n",
       "0   16.0   6.566231      2.907983       Mega   54.732757\n",
       "1   13.0   9.237765      2.409567       Mega   46.677897\n",
       "2   41.0  15.886446      2.913410       Mega  150.177829\n",
       "3   83.0  30.020028      6.922304       Mega  298.246340\n",
       "4   15.0   8.437408      1.405998      Micro   56.594181\n",
       "5   29.0   9.614382      1.027163       Mega  105.889148\n",
       "6   55.0  24.893811      4.273602      Micro  198.679825\n",
       "7   31.0  17.355042      2.289855       Nano  108.733932\n",
       "8   76.0  24.648898      7.130116      Macro  270.189400\n",
       "9   13.0   0.431128      2.229423       Mega   48.280582\n",
       "10  62.0  24.345189      5.151483       Nano  224.961019\n",
       "11  42.0  15.807337      3.194925       Mega  145.543992\n",
       "12  64.0  20.240424      3.921148      Micro  229.632381\n",
       "13   NaN  22.351667      3.031815       Mega  276.165351\n",
       "14  34.0   0.226326      2.372706       Nano  121.336419"
      ]
     },
     "execution_count": 222,
     "metadata": {},
     "output_type": "execute_result"
    }
   ],
   "source": [
    "print(df.shape)\n",
    "df.head(15)"
   ]
  },
  {
   "cell_type": "markdown",
   "metadata": {},
   "source": [
    "1. **TV** - TV budget, in mln \n",
    "2. **Radio** - Radio budet, in mln \\n\n",
    "3. **SM**- Social Media budget, in mln\n",
    "4. **Influencer** - Affiliate marketing through well-known persons, the popularity is measured by (Nano,Micro,Macro,Mega)\n",
    "5. **Sales** in mln"
   ]
  },
  {
   "cell_type": "markdown",
   "metadata": {},
   "source": [
    "### Cleaning the data"
   ]
  },
  {
   "cell_type": "code",
   "execution_count": 223,
   "metadata": {},
   "outputs": [
    {
     "name": "stdout",
     "output_type": "stream",
     "text": [
      "TV              10\n",
      "Radio            4\n",
      "Social Media     6\n",
      "Influencer       0\n",
      "Sales            6\n",
      "dtype: int64\n",
      "<class 'pandas.core.frame.DataFrame'>\n",
      "RangeIndex: 4572 entries, 0 to 4571\n",
      "Data columns (total 5 columns):\n",
      " #   Column        Non-Null Count  Dtype  \n",
      "---  ------        --------------  -----  \n",
      " 0   TV            4562 non-null   float64\n",
      " 1   Radio         4568 non-null   float64\n",
      " 2   Social Media  4566 non-null   float64\n",
      " 3   Influencer    4572 non-null   object \n",
      " 4   Sales         4566 non-null   float64\n",
      "dtypes: float64(4), object(1)\n",
      "memory usage: 178.7+ KB\n"
     ]
    }
   ],
   "source": [
    "print(df.isnull().sum())\n",
    "df.info()"
   ]
  },
  {
   "cell_type": "markdown",
   "metadata": {},
   "source": [
    "Since we have a small number of Nan, we can simply remove them"
   ]
  },
  {
   "cell_type": "code",
   "execution_count": 224,
   "metadata": {},
   "outputs": [
    {
     "data": {
      "text/plain": [
       "(4546, 5)"
      ]
     },
     "execution_count": 224,
     "metadata": {},
     "output_type": "execute_result"
    }
   ],
   "source": [
    "df.dropna(inplace=True)\n",
    "df.shape"
   ]
  },
  {
   "cell_type": "markdown",
   "metadata": {},
   "source": [
    "### Exploratory data analysis"
   ]
  },
  {
   "cell_type": "code",
   "execution_count": 225,
   "metadata": {},
   "outputs": [
    {
     "data": {
      "text/html": [
       "<div>\n",
       "<style scoped>\n",
       "    .dataframe tbody tr th:only-of-type {\n",
       "        vertical-align: middle;\n",
       "    }\n",
       "\n",
       "    .dataframe tbody tr th {\n",
       "        vertical-align: top;\n",
       "    }\n",
       "\n",
       "    .dataframe thead th {\n",
       "        text-align: right;\n",
       "    }\n",
       "</style>\n",
       "<table border=\"1\" class=\"dataframe\">\n",
       "  <thead>\n",
       "    <tr style=\"text-align: right;\">\n",
       "      <th></th>\n",
       "      <th>TV</th>\n",
       "      <th>Radio</th>\n",
       "      <th>Social Media</th>\n",
       "      <th>Sales</th>\n",
       "    </tr>\n",
       "  </thead>\n",
       "  <tbody>\n",
       "    <tr>\n",
       "      <th>count</th>\n",
       "      <td>4546.000000</td>\n",
       "      <td>4546.000000</td>\n",
       "      <td>4546.000000</td>\n",
       "      <td>4546.000000</td>\n",
       "    </tr>\n",
       "    <tr>\n",
       "      <th>mean</th>\n",
       "      <td>54.062912</td>\n",
       "      <td>18.157533</td>\n",
       "      <td>3.323473</td>\n",
       "      <td>192.413332</td>\n",
       "    </tr>\n",
       "    <tr>\n",
       "      <th>std</th>\n",
       "      <td>26.104942</td>\n",
       "      <td>9.663260</td>\n",
       "      <td>2.211254</td>\n",
       "      <td>93.019873</td>\n",
       "    </tr>\n",
       "    <tr>\n",
       "      <th>min</th>\n",
       "      <td>10.000000</td>\n",
       "      <td>0.000684</td>\n",
       "      <td>0.000031</td>\n",
       "      <td>31.199409</td>\n",
       "    </tr>\n",
       "    <tr>\n",
       "      <th>25%</th>\n",
       "      <td>32.000000</td>\n",
       "      <td>10.555355</td>\n",
       "      <td>1.530822</td>\n",
       "      <td>112.434612</td>\n",
       "    </tr>\n",
       "    <tr>\n",
       "      <th>50%</th>\n",
       "      <td>53.000000</td>\n",
       "      <td>17.859513</td>\n",
       "      <td>3.055565</td>\n",
       "      <td>188.963678</td>\n",
       "    </tr>\n",
       "    <tr>\n",
       "      <th>75%</th>\n",
       "      <td>77.000000</td>\n",
       "      <td>25.640603</td>\n",
       "      <td>4.804919</td>\n",
       "      <td>272.324236</td>\n",
       "    </tr>\n",
       "    <tr>\n",
       "      <th>max</th>\n",
       "      <td>100.000000</td>\n",
       "      <td>48.871161</td>\n",
       "      <td>13.981662</td>\n",
       "      <td>364.079751</td>\n",
       "    </tr>\n",
       "  </tbody>\n",
       "</table>\n",
       "</div>"
      ],
      "text/plain": [
       "                TV        Radio  Social Media        Sales\n",
       "count  4546.000000  4546.000000   4546.000000  4546.000000\n",
       "mean     54.062912    18.157533      3.323473   192.413332\n",
       "std      26.104942     9.663260      2.211254    93.019873\n",
       "min      10.000000     0.000684      0.000031    31.199409\n",
       "25%      32.000000    10.555355      1.530822   112.434612\n",
       "50%      53.000000    17.859513      3.055565   188.963678\n",
       "75%      77.000000    25.640603      4.804919   272.324236\n",
       "max     100.000000    48.871161     13.981662   364.079751"
      ]
     },
     "execution_count": 225,
     "metadata": {},
     "output_type": "execute_result"
    }
   ],
   "source": [
    "df.describe()"
   ]
  },
  {
   "cell_type": "code",
   "execution_count": 226,
   "metadata": {},
   "outputs": [
    {
     "data": {
      "image/png": "[encoded data removed]",
      "text/plain": [
       "<Figure size 432x288 with 1 Axes>"
      ]
     },
     "metadata": {},
     "output_type": "display_data"
    }
   ],
   "source": [
    "sns.countplot(x='Influencer',data=df).set_title('Division of Influencers');"
   ]
  },
  {
   "cell_type": "code",
   "execution_count": 227,
   "metadata": {},
   "outputs": [],
   "source": [
    "col=['Sales','TV','Radio','Social Media']"
   ]
  },
  {
   "cell_type": "code",
   "execution_count": null,
   "metadata": {},
   "outputs": [],
   "source": [
    "f=plt.figure(figsize=(12,7))\n",
    "for i,cols in enumerate(df[col]):\n",
    "    ax=f.add_subplot(2,2,i+1)\n",
    "    sns.boxplot(y=cols,data=df,x='Influencer')\n",
    "    ax.set_title('The boxplot of '+cols+' by influencers')\n",
    "f.tight_layout()"
   ]
  },
  {
   "cell_type": "code",
   "execution_count": null,
   "metadata": {},
   "outputs": [],
   "source": [
    "def plottec(kind,col):\n",
    "    fig=plt.figure(figsize=(12,7))\n",
    "    for i, feature in enumerate(col):\n",
    "            ax=fig.add_subplot(2,2,i+1)\n",
    "            df.groupby('Influencer')[feature].sum().plot(ax=ax,kind=kind)\n",
    "            ax.set_title(feature+\" Distribution by Influencer\",color='DarkRed')\n",
    "\n",
    "    fig.tight_layout()  \n",
    "    plt.show()"
   ]
  },
  {
   "cell_type": "code",
   "execution_count": null,
   "metadata": {},
   "outputs": [],
   "source": [
    "plottec('bar',col)"
   ]
  },
  {
   "cell_type": "code",
   "execution_count": null,
   "metadata": {},
   "outputs": [],
   "source": [
    "sns.pairplot(df);"
   ]
  },
  {
   "cell_type": "markdown",
   "metadata": {},
   "source": [
    "### Prediction of Sales"
   ]
  },
  {
   "cell_type": "markdown",
   "metadata": {},
   "source": [
    "Since we want to predict a number of sales depending on our features, lets ,first of all, transform our categorical variables into numeric ones. As we have a gradation, we use a label encoder"
   ]
  },
  {
   "cell_type": "code",
   "execution_count": null,
   "metadata": {},
   "outputs": [],
   "source": [
    "df1=df\n",
    "df1['Influencer']=df1['Influencer'].replace({'Mega':3,'Macro':2,'Micro':1,'Nano':0})"
   ]
  },
  {
   "cell_type": "code",
   "execution_count": null,
   "metadata": {},
   "outputs": [],
   "source": [
    "df1"
   ]
  },
  {
   "cell_type": "code",
   "execution_count": null,
   "metadata": {},
   "outputs": [],
   "source": [
    "from sklearn.model_selection import train_test_split\n",
    "from sklearn.linear_model import LinearRegression\n",
    "from sklearn.metrics import r2_score, mean_squared_error,mean_absolute_error\n",
    "from sklearn.preprocessing import StandardScaler\n",
    "from sklearn.pipeline import Pipeline\n",
    "from sklearn.tree import DecisionTreeRegressor"
   ]
  },
  {
   "cell_type": "markdown",
   "metadata": {},
   "source": [
    "We are going to asses models by following metrics: **MSE, R-squared**"
   ]
  },
  {
   "cell_type": "code",
   "execution_count": null,
   "metadata": {},
   "outputs": [],
   "source": [
    "def metrics(test,pred):\n",
    "    print('MSE',round(mean_squared_error(test,pred),15))\n",
    "    print('MAE',round(mean_absolute_error(test,pred),15))\n",
    "    print('RMSE',round(np.sqrt(mean_squared_error(test,pred)),15))\n",
    "    print('R2',round(r2_score(test,pred),15))"
   ]
  },
  {
   "cell_type": "code",
   "execution_count": null,
   "metadata": {},
   "outputs": [],
   "source": [
    "y=df1['Sales']\n",
    "x=df1.drop('Sales',axis=1)"
   ]
  },
  {
   "cell_type": "code",
   "execution_count": null,
   "metadata": {},
   "outputs": [],
   "source": [
    "x_train,x_test,y_train,y_test=train_test_split(x,y,test_size=0.2,random_state=1111)"
   ]
  },
  {
   "cell_type": "markdown",
   "metadata": {},
   "source": [
    "Lets create a **Decision tree** for regression problems"
   ]
  },
  {
   "cell_type": "code",
   "execution_count": null,
   "metadata": {},
   "outputs": [],
   "source": [
    "dt=DecisionTreeRegressor(max_depth=4,min_samples_leaf=0.1,random_state=1111)\n",
    "dt.fit(x_train,y_train)\n",
    "y_pred_tree=dt.predict(x_test)"
   ]
  },
  {
   "cell_type": "code",
   "execution_count": null,
   "metadata": {},
   "outputs": [],
   "source": [
    "metrics(y_test,y_pred_tree)"
   ]
  },
  {
   "cell_type": "markdown",
   "metadata": {},
   "source": [
    "Also lets conduct **cross validation**"
   ]
  },
  {
   "cell_type": "code",
   "execution_count": null,
   "metadata": {},
   "outputs": [],
   "source": [
    "cross_r2=cross_val_score(dt,x,y,cv=10).mean()\n",
    "cross_mse=cross_val_score(dt,x,y,cv=10,scoring='neg_mean_squared_error').mean()\n",
    "print('MSE',-cross_mse)\n",
    "print('R2',cross_r2)"
   ]
  },
  {
   "cell_type": "markdown",
   "metadata": {},
   "source": [
    "We can observe a pretty good R squared, which is spectacular result. Lets try **Multiple Regression**"
   ]
  },
  {
   "cell_type": "code",
   "execution_count": null,
   "metadata": {},
   "outputs": [],
   "source": [
    "pipe=Pipeline(steps=[('scale',StandardScaler())])"
   ]
  },
  {
   "cell_type": "code",
   "execution_count": null,
   "metadata": {},
   "outputs": [],
   "source": [
    "x_train=pipe.fit_transform(x_train)\n",
    "x_test=pipe.transform(x_test)\n",
    "lm=LinearRegression()\n",
    "lm.fit(x_train,y_train)\n",
    "y_pred=lm.predict(x_test)\n",
    "metrics(y_test,y_pred)"
   ]
  },
  {
   "cell_type": "markdown",
   "metadata": {},
   "source": [
    "Also lets conduct **cross validation**"
   ]
  },
  {
   "cell_type": "code",
   "execution_count": null,
   "metadata": {},
   "outputs": [],
   "source": [
    "cross_r2_reg=cross_val_score(lm,x,y,cv=10).mean()\n",
    "cross_mse_reg=cross_val_score(lm,x,y,cv=10,scoring='neg_mean_squared_error').mean()\n",
    "print('MSE',-cross_mse_reg)\n",
    "print('R2',cross_r2_reg)"
   ]
  },
  {
   "cell_type": "markdown",
   "metadata": {},
   "source": [
    "#### Compare perfomance"
   ]
  },
  {
   "cell_type": "code",
   "execution_count": null,
   "metadata": {},
   "outputs": [],
   "source": [
    "if cross_mse>cross_mse_reg: print('Decision tree is better in terms of MSE')\n",
    "else: print('Linear Regression  is better in terms of MSE')\n",
    "    \n",
    "if cross_r2>cross_r2_reg: print('Decision tree is better in terms of R2')\n",
    "else: print('Linear Regression  is better in terms of R2')"
   ]
  },
  {
   "cell_type": "markdown",
   "metadata": {},
   "source": [
    "Seems that Linear Regression perfoms much better, lets check our residuals for normality"
   ]
  },
  {
   "cell_type": "code",
   "execution_count": null,
   "metadata": {},
   "outputs": [],
   "source": [
    "sns.distplot((y_test-y_pred))\n",
    "plt.title('Distribution of residuals')\n",
    "plt.xlabel('Residuals');"
   ]
  },
  {
   "cell_type": "code",
   "execution_count": null,
   "metadata": {},
   "outputs": [],
   "source": [
    "from scipy.stats import shapiro\n",
    "shapiro(y_test-y_pred)"
   ]
  },
  {
   "cell_type": "code",
   "execution_count": null,
   "metadata": {},
   "outputs": [],
   "source": [
    "sns.scatterplot(x=y_test,y=y_pred)\n",
    "plt.title('Checking for normality')\n",
    "plt.ylabel('Predicted values')\n",
    "plt.xlabel('True values');"
   ]
  },
  {
   "cell_type": "markdown",
   "metadata": {},
   "source": [
    "### The assumptions of Linear regression are met, residuals have mean 0 and normal curve, but lets check model for multicollinearity"
   ]
  },
  {
   "cell_type": "code",
   "execution_count": null,
   "metadata": {},
   "outputs": [],
   "source": [
    "sns.heatmap(df1[col].corr(),annot=True)"
   ]
  },
  {
   "cell_type": "code",
   "execution_count": null,
   "metadata": {},
   "outputs": [],
   "source": [
    "from statsmodels.stats.outliers_influence import variance_inflation_factor\n",
    "vif=pd.DataFrame()\n",
    "vif['Vif factor']=[variance_inflation_factor(x.values,i) for i in range(x.shape[1])]\n",
    "vif['feature']=x.columns"
   ]
  },
  {
   "cell_type": "code",
   "execution_count": null,
   "metadata": {},
   "outputs": [],
   "source": [
    "vif.round(1).sort_values(by='Vif factor',ascending=False)"
   ]
  },
  {
   "cell_type": "markdown",
   "metadata": {},
   "source": [
    "Indeed, **TV and Radio** are highly correlated that mess our model, lets remove the most correlated"
   ]
  },
  {
   "cell_type": "code",
   "execution_count": null,
   "metadata": {},
   "outputs": [],
   "source": [
    "df2=df1.drop('Radio',axis=1)"
   ]
  },
  {
   "cell_type": "code",
   "execution_count": null,
   "metadata": {},
   "outputs": [],
   "source": [
    "y2=df2['Sales']\n",
    "x2=df2.drop('Sales',axis=1)"
   ]
  },
  {
   "cell_type": "code",
   "execution_count": null,
   "metadata": {},
   "outputs": [],
   "source": [
    "x2_train,x2_test,y2_train,y2_test=train_test_split(x2,y2,test_size=0.2,random_state=1111)"
   ]
  },
  {
   "cell_type": "code",
   "execution_count": null,
   "metadata": {},
   "outputs": [],
   "source": [
    "x2_train=pipe.fit_transform(x2_train)\n",
    "x2_test=pipe.transform(x2_test)\n",
    "lm=LinearRegression()\n",
    "lm.fit(x2_train,y2_train)\n",
    "y2_pred=lm.predict(x2_test)\n",
    "metrics(y2_test,y2_pred)"
   ]
  },
  {
   "cell_type": "markdown",
   "metadata": {},
   "source": [
    "## Eventually, we see that Linear regression perfoms better compared to Decision Tree"
   ]
  }
 ],
 "metadata": {
  "kernelspec": {
   "display_name": "Python 3",
   "language": "python",
   "name": "python3"
  },
  "language_info": {
   "codemirror_mode": {
    "name": "ipython",
    "version": 3
   },
   "file_extension": ".py",
   "mimetype": "text/x-python",
   "name": "python",
   "nbconvert_exporter": "python",
   "pygments_lexer": "ipython3",
   "version": "3.8.5"
  }
 },
 "nbformat": 4,
 "nbformat_minor": 4
}
